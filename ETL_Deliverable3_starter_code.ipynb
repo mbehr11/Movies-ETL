{
 "cells": [
  {
   "cell_type": "code",
   "execution_count": 1,
   "source": [
    "import json\r\n",
    "import pandas as pd\r\n",
    "import numpy as np\r\n",
    "\r\n",
    "import re\r\n",
    "\r\n",
    "from sqlalchemy import create_engine\r\n",
    "import psycopg2\r\n",
    "\r\n",
    "# from config import db_password\r\n",
    "\r\n",
    "import time"
   ],
   "outputs": [],
   "metadata": {}
  },
  {
   "cell_type": "code",
   "execution_count": 2,
   "source": [
    "#  Add the clean movie function that takes in the argument, \"movie\".\r\n",
    "def clean_movie(movie):\r\n",
    "\r\n",
    "    \r\n",
    "    \r\n",
    "    \r\n",
    "\r\n",
    "    return movie"
   ],
   "outputs": [],
   "metadata": {}
  },
  {
   "cell_type": "code",
   "execution_count": 3,
   "source": [
    "# 1 Add the function that takes in three arguments;\r\n",
    "# Wikipedia data, Kaggle metadata, and MovieLens rating data (from Kaggle)\r\n",
    "\r\n",
    "def function_name():\r\n",
    "    # Read in the kaggle metadata and MovieLens ratings CSV files as Pandas DataFrames.\r\n",
    "    \r\n",
    "\r\n",
    "    # Open and read the Wikipedia data JSON file.\r\n",
    "    \r\n",
    "    \r\n",
    "    # Write a list comprehension to filter out TV shows.\r\n",
    "    \r\n",
    "\r\n",
    "    # Write a list comprehension to iterate through the cleaned wiki movies list\r\n",
    "    # and call the clean_movie function on each movie.\r\n",
    "    \r\n",
    "\r\n",
    "    # Read in the cleaned movies list from Step 4 as a DataFrame.\r\n",
    "\r\n",
    "\r\n",
    "    # Write a try-except block to catch errors while extracting the IMDb ID using a regular expression string and\r\n",
    "    #  dropping any imdb_id duplicates. If there is an error, capture and print the exception.\r\n",
    "    try:\r\n",
    "        \r\n",
    "    except \r\n",
    "\r\n",
    "    #  Write a list comprehension to keep the columns that don't have null values from the wiki_movies_df DataFrame.\r\n",
    "    \r\n",
    "\r\n",
    "    # Create a variable that will hold the non-null values from the “Box office” column.\r\n",
    "\r\n",
    "    \r\n",
    "    # Convert the box office data created in Step 8 to string values using the lambda and join functions.\r\n",
    "    \r\n",
    "\r\n",
    "    # Write a regular expression to match the six elements of \"form_one\" of the box office data.\r\n",
    "   \r\n",
    "    # Write a regular expression to match the three elements of \"form_two\" of the box office data.\r\n",
    "    \r\n",
    "\r\n",
    "    # Add the parse_dollars function.\r\n",
    "    \r\n",
    "        \r\n",
    "    # Clean the box office column in the wiki_movies_df DataFrame.\r\n",
    "\r\n",
    "    \r\n",
    "    # Clean the budget column in the wiki_movies_df DataFrame.\r\n",
    "    \r\n",
    "\r\n",
    "    # Clean the release date column in the wiki_movies_df DataFrame.\r\n",
    "    \r\n",
    "\r\n",
    "    # Clean the running time column in the wiki_movies_df DataFrame.\r\n",
    "    \r\n",
    "     \r\n",
    "    # 2. Clean the Kaggle metadata.\r\n",
    "\r\n",
    "    # 3. Merged the two DataFrames into the movies DataFrame.\r\n",
    "\r\n",
    "\r\n",
    "    # 4. Drop unnecessary columns from the merged DataFrame.\r\n",
    "\r\n",
    "\r\n",
    "    # 5. Add in the function to fill in the missing Kaggle data.\r\n",
    "\r\n",
    "\r\n",
    "    # 6. Call the function in Step 5 with the DataFrame and columns as the arguments.\r\n",
    "\r\n",
    "\r\n",
    "    # 7. Filter the movies DataFrame for specific columns.\r\n",
    "\r\n",
    "\r\n",
    "    # 8. Rename the columns in the movies DataFrame.\r\n",
    "\r\n",
    "\r\n",
    "    # 9. Transform and merge the ratings DataFrame.\r\n",
    "    \r\n",
    "    return wiki_movies_df, movies_with_ratings_df, movies_df\r\n"
   ],
   "outputs": [],
   "metadata": {}
  },
  {
   "cell_type": "code",
   "execution_count": 4,
   "source": [
    "# 10. Create the path to your file directory and variables for the three files.\n",
    "file_dir = '../Resources'\n",
    "# The Wikipedia data\n",
    "wiki_file = f'{file_dir}/wikipedia.movies.json'\n",
    "# The Kaggle metadata\n",
    "kaggle_file = f'{file_dir}/movies_metadata.csv'\n",
    "# The MovieLens rating data.\n",
    "ratings_file = f'{file_dir}/ratings.csv'"
   ],
   "outputs": [],
   "metadata": {}
  },
  {
   "cell_type": "code",
   "execution_count": 5,
   "source": [
    "# 11. Set the three variables equal to the function created in D1.\n",
    "wiki_file, kaggle_file, ratings_file = extract_transform_load()"
   ],
   "outputs": [],
   "metadata": {}
  },
  {
   "cell_type": "code",
   "execution_count": 6,
   "source": [
    "# 12. Set the DataFrames from the return statement equal to the file names in Step 11. \n",
    "wiki_movies_df = wiki_file\n",
    "movies_with_ratings_df = kaggle_file\n",
    "movies_df = ratings_file"
   ],
   "outputs": [],
   "metadata": {}
  },
  {
   "cell_type": "code",
   "execution_count": 7,
   "source": [
    "# 13. Check the wiki_movies_df DataFrame. \n",
    "wiki_movies_df.head()"
   ],
   "outputs": [],
   "metadata": {}
  },
  {
   "cell_type": "code",
   "execution_count": 8,
   "source": [
    "# 14. Check the movies_with_ratings_df DataFrame.\n",
    "movies_with_ratings_df.head()"
   ],
   "outputs": [],
   "metadata": {}
  },
  {
   "cell_type": "code",
   "execution_count": 9,
   "source": [
    "# 15. Check the movies_df DataFrame. \n",
    "movies_df.head()"
   ],
   "outputs": [],
   "metadata": {}
  },
  {
   "cell_type": "code",
   "execution_count": null,
   "source": [],
   "outputs": [],
   "metadata": {}
  }
 ],
 "metadata": {
  "kernelspec": {
   "display_name": "PythonData",
   "language": "python",
   "name": "pythondata"
  },
  "language_info": {
   "codemirror_mode": {
    "name": "ipython",
    "version": 3
   },
   "file_extension": ".py",
   "mimetype": "text/x-python",
   "name": "python",
   "nbconvert_exporter": "python",
   "pygments_lexer": "ipython3",
   "version": "3.7.7"
  }
 },
 "nbformat": 4,
 "nbformat_minor": 2
}